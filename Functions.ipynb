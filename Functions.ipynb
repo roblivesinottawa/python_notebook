{
 "cells": [
  {
   "cell_type": "code",
   "execution_count": 2,
   "source": [
    "def greet(name):\n",
    "    \"\"\"This function takes a name and returns a hello with the name entered.\"\"\"\n",
    "    return f\"Hello {name}\"\n",
    "\n",
    "name = input('What is your name? ')\n",
    "print(greet(name))"
   ],
   "outputs": [
    {
     "output_type": "stream",
     "name": "stdout",
     "text": [
      "Hello Vick\n"
     ]
    }
   ],
   "metadata": {}
  },
  {
   "cell_type": "code",
   "execution_count": 3,
   "source": [
    "def can_drink(age):\n",
    "    \"\"\"This function takes an age and returns True if the age is 21 or older, and False if the age is under 21.\"\"\"\n",
    "    if age >= 21:\n",
    "        return \"You can drink.\"\n",
    "    else:\n",
    "        return \"You cannot drink.\"\n",
    "\n",
    "age = int(input('What is your age? '))\n",
    "print(can_drink(age))"
   ],
   "outputs": [
    {
     "output_type": "stream",
     "name": "stdout",
     "text": [
      "You can drink.\n"
     ]
    }
   ],
   "metadata": {}
  },
  {
   "cell_type": "code",
   "execution_count": 4,
   "source": [
    "def fizzbuzz(n):\n",
    "    \"\"\"This function takes a number and returns a list of numbers from 1 to the number, with the following rules:\n",
    "    - if the number is divisible by 3, it prints 'fizz',\n",
    "    - if the number is divisible by 5, it prints 'buzz',\n",
    "    - if the number is divisible by both 3 and 5, it prints 'fizzbuzz',\n",
    "    - otherwise it prints the number.\"\"\"\n",
    "    if n % 3 == 0 and n % 5 == 0:\n",
    "        return 'fizzbuzz'\n",
    "    elif n % 3 == 0:\n",
    "        return 'fizz'\n",
    "    elif n % 5 == 0:\n",
    "        return 'buzz'\n",
    "    else:\n",
    "        return n\n",
    "\n",
    "n = int(input('Enter a number: '))\n",
    "print(fizzbuzz(n))\n",
    "    \n",
    "\n"
   ],
   "outputs": [
    {
     "output_type": "stream",
     "name": "stdout",
     "text": [
      "fizzbuzz\n"
     ]
    }
   ],
   "metadata": {}
  },
  {
   "cell_type": "code",
   "execution_count": 6,
   "source": [
    "memo = {1: 1, 2: 2}\n",
    "\n",
    "def fibonacci(n):\n",
    "    \"\"\"this function returns the fibonacci equivalent of the integer entered as paramter.\"\"\"\n",
    "    if n not in memo:\n",
    "        memo[n] = fibonacci(n-1) + fibonacci(n-2)\n",
    "    return memo[n]\n",
    "\n",
    "n = int(input('Enter an integer: '))\n",
    "print(fibonacci(n))"
   ],
   "outputs": [
    {
     "output_type": "stream",
     "name": "stdout",
     "text": [
      "89\n"
     ]
    }
   ],
   "metadata": {}
  },
  {
   "cell_type": "code",
   "execution_count": null,
   "source": [],
   "outputs": [],
   "metadata": {}
  }
 ],
 "metadata": {
  "orig_nbformat": 4,
  "language_info": {
   "name": "python",
   "version": "3.8.3",
   "mimetype": "text/x-python",
   "codemirror_mode": {
    "name": "ipython",
    "version": 3
   },
   "pygments_lexer": "ipython3",
   "nbconvert_exporter": "python",
   "file_extension": ".py"
  },
  "kernelspec": {
   "name": "python3",
   "display_name": "Python 3.8.3 64-bit ('base': conda)"
  },
  "interpreter": {
   "hash": "dca0ade3e726a953b501b15e8e990130d2b7799f14cfd9f4271676035ebe5511"
  }
 },
 "nbformat": 4,
 "nbformat_minor": 2
}