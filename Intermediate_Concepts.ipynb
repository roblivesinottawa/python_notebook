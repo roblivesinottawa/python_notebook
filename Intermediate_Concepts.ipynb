{
 "cells": [
  {
   "cell_type": "code",
   "execution_count": 2,
   "source": [
    "###*Args and **Kwargs ###"
   ],
   "outputs": [],
   "metadata": {}
  },
  {
   "cell_type": "markdown",
   "source": [],
   "metadata": {}
  },
  {
   "cell_type": "code",
   "execution_count": 3,
   "source": [
    "def test_args(f_arg, *args):\n",
    "    print(\"first normal argument:\", f_arg)\n",
    "    for arg in args:\n",
    "        print(\"another arg through *args\", arg)\n",
    "\n",
    "test_args('Robson', 'Python', 'eggs', 'test')\n"
   ],
   "outputs": [
    {
     "output_type": "stream",
     "name": "stdout",
     "text": [
      "first normal argument: Robson\n",
      "another arg through *args Python\n",
      "another arg through *args eggs\n",
      "another arg through *args test\n"
     ]
    }
   ],
   "metadata": {}
  },
  {
   "cell_type": "code",
   "execution_count": 4,
   "source": [
    "\"\"\"HOW TO APPLY FILTERS TO THE FUNCTIONS USING THE FILTER METHOD\"\"\""
   ],
   "outputs": [
    {
     "output_type": "execute_result",
     "data": {
      "text/plain": [
       "'HOW TO APPLY FILTERS TO THE FUNCTIONS USING THE FILTER METHOD'"
      ]
     },
     "metadata": {},
     "execution_count": 4
    }
   ],
   "metadata": {}
  },
  {
   "cell_type": "code",
   "execution_count": 6,
   "source": [
    "def positives():\n",
    "    \"\"\"this function gets all the positive numbers\"\"\"\n",
    "    num = []\n",
    "    for n in range(-10, 10):\n",
    "        if n > 0:\n",
    "            num.append(n)\n",
    "    return num\n",
    "\n",
    "print(positives())\n",
    "\n",
    "# this a version of the above function that uses list comprehension\n",
    "nums = range(-10, 10)\n",
    "positive = list(filter(lambda  n : n > 0, nums))\n",
    "print(positive)"
   ],
   "outputs": [
    {
     "output_type": "stream",
     "name": "stdout",
     "text": [
      "[1, 2, 3, 4, 5, 6, 7, 8, 9]\n",
      "[1, 2, 3, 4, 5, 6, 7, 8, 9]\n"
     ]
    }
   ],
   "metadata": {}
  },
  {
   "cell_type": "code",
   "execution_count": 7,
   "source": [
    "def odds():\n",
    "    odd_numbers = []\n",
    "    for odd in range(-10, 10):\n",
    "        if odd % 2 != 0:\n",
    "            odd_numbers.append(odd)\n",
    "    return odd_numbers\n",
    "\n",
    "print(odds())\n",
    "\n",
    "odds = list(filter(lambda n : n % 2 != 0, nums))\n",
    "print(odds)\n"
   ],
   "outputs": [
    {
     "output_type": "stream",
     "name": "stdout",
     "text": [
      "[-9, -7, -5, -3, -1, 1, 3, 5, 7, 9]\n",
      "[-9, -7, -5, -3, -1, 1, 3, 5, 7, 9]\n"
     ]
    }
   ],
   "metadata": {}
  },
  {
   "cell_type": "code",
   "execution_count": 8,
   "source": [
    "\n",
    "def evens():\n",
    "    even_nums = []\n",
    "    for even in range(-10, 10):\n",
    "        if even % 2 == 0:\n",
    "            even_nums.append(even)\n",
    "    return even_nums\n",
    "\n",
    "print(evens())\n",
    "evens = list(filter(lambda n : n % 2 == 0, nums))\n",
    "print(evens)"
   ],
   "outputs": [
    {
     "output_type": "stream",
     "name": "stdout",
     "text": [
      "[-10, -8, -6, -4, -2, 0, 2, 4, 6, 8]\n",
      "[-10, -8, -6, -4, -2, 0, 2, 4, 6, 8]\n"
     ]
    }
   ],
   "metadata": {}
  },
  {
   "cell_type": "code",
   "execution_count": 9,
   "source": [
    "def negatives():\n",
    "    n = []\n",
    "    for num in range(-10, 10):\n",
    "        if num < 0:\n",
    "            n.append(num)\n",
    "    return n\n",
    "\n",
    "print(negatives())\n",
    "\n",
    "nums = range(-10, 10)\n",
    "\n",
    "negative = list(filter(lambda x: x < 0, nums))\n",
    "print(negative)"
   ],
   "outputs": [
    {
     "output_type": "stream",
     "name": "stdout",
     "text": [
      "[-10, -9, -8, -7, -6, -5, -4, -3, -2, -1]\n",
      "[-10, -9, -8, -7, -6, -5, -4, -3, -2, -1]\n"
     ]
    }
   ],
   "metadata": {}
  },
  {
   "cell_type": "code",
   "execution_count": 16,
   "source": [
    "def gen():\n",
    "    \"\"\"generators are iterators that can iterate over just once\"\"\"\n",
    "    for x in range(20):\n",
    "        yield x\n",
    "\n",
    "\n",
    "for item in gen():\n",
    "    print(item, end=' ')\n",
    "\n"
   ],
   "outputs": [
    {
     "output_type": "stream",
     "name": "stdout",
     "text": [
      "0 1 2 3 4 5 6 7 8 9 10 11 12 13 14 15 16 17 18 19 "
     ]
    }
   ],
   "metadata": {}
  },
  {
   "cell_type": "code",
   "execution_count": 18,
   "source": [
    "# a better use is when calculating large sets of numbers\n",
    "\n",
    "\n",
    "# def fibonacci(n):\n",
    "#     a = b = 1\n",
    "#     for x in range(n):\n",
    "#         yield a\n",
    "#         a, b = b, a + b\n",
    "\n",
    "\n",
    "# for i in fibonacci(100):\n",
    "#     print(i)\n",
    "\n",
    "\n",
    "def fib(num):\n",
    "    a = b = 1\n",
    "    result = []\n",
    "    for x in range(num):\n",
    "        result.append(a)\n",
    "        a, b = b, a + b\n",
    "    return result\n",
    "\n",
    "\n",
    "for i in fib(10):\n",
    "    print(i, end=' ')"
   ],
   "outputs": [
    {
     "output_type": "stream",
     "name": "stdout",
     "text": [
      "1 1 2 3 5 8 13 21 34 55 "
     ]
    }
   ],
   "metadata": {}
  },
  {
   "cell_type": "code",
   "execution_count": 19,
   "source": [
    "\"\"\"The fibonaci sequence is a sequence of numbers such that any number except for the first and second is the sum of the previous two.\n",
    "\n",
    "    0, 1, 1, 2, 3, 5, 8, 13, 21\n",
    "\n",
    "    THIS IS THE FORMAULA TO GET THE FIBONNACI SEQUENCE:\n",
    "    fib(n) = fib(n-1) + fib(n-2)\n",
    "\n",
    "\"\"\"\n",
    "\n",
    "\"A RECURSIVE ATTEMPT\""
   ],
   "outputs": [
    {
     "output_type": "execute_result",
     "data": {
      "text/plain": [
       "'A RECURSIVE ATTEMPT'"
      ]
     },
     "metadata": {},
     "execution_count": 19
    }
   ],
   "metadata": {}
  },
  {
   "cell_type": "code",
   "execution_count": 20,
   "source": [
    "def fib1(n):\n",
    "    return fib1(n-1) + fib1(n-2) \n",
    "\n",
    "if __name__ == \"__main__\":\n",
    "    print(fib1(4))"
   ],
   "outputs": [
    {
     "output_type": "error",
     "ename": "RecursionError",
     "evalue": "maximum recursion depth exceeded",
     "traceback": [
      "\u001b[0;31m---------------------------------------------------------------------------\u001b[0m",
      "\u001b[0;31mRecursionError\u001b[0m                            Traceback (most recent call last)",
      "\u001b[0;32m<ipython-input-20-f3705de61ffb>\u001b[0m in \u001b[0;36m<module>\u001b[0;34m\u001b[0m\n\u001b[1;32m      3\u001b[0m \u001b[0;34m\u001b[0m\u001b[0m\n\u001b[1;32m      4\u001b[0m \u001b[0;32mif\u001b[0m \u001b[0m__name__\u001b[0m \u001b[0;34m==\u001b[0m \u001b[0;34m\"__main__\"\u001b[0m\u001b[0;34m:\u001b[0m\u001b[0;34m\u001b[0m\u001b[0;34m\u001b[0m\u001b[0m\n\u001b[0;32m----> 5\u001b[0;31m     \u001b[0mprint\u001b[0m\u001b[0;34m(\u001b[0m\u001b[0mfib1\u001b[0m\u001b[0;34m(\u001b[0m\u001b[0;36m4\u001b[0m\u001b[0;34m)\u001b[0m\u001b[0;34m)\u001b[0m\u001b[0;34m\u001b[0m\u001b[0;34m\u001b[0m\u001b[0m\n\u001b[0m",
      "\u001b[0;32m<ipython-input-20-f3705de61ffb>\u001b[0m in \u001b[0;36mfib1\u001b[0;34m(n)\u001b[0m\n\u001b[1;32m      1\u001b[0m \u001b[0;32mdef\u001b[0m \u001b[0mfib1\u001b[0m\u001b[0;34m(\u001b[0m\u001b[0mn\u001b[0m\u001b[0;34m)\u001b[0m\u001b[0;34m:\u001b[0m\u001b[0;34m\u001b[0m\u001b[0;34m\u001b[0m\u001b[0m\n\u001b[0;32m----> 2\u001b[0;31m     \u001b[0;32mreturn\u001b[0m \u001b[0mfib1\u001b[0m\u001b[0;34m(\u001b[0m\u001b[0mn\u001b[0m\u001b[0;34m-\u001b[0m\u001b[0;36m1\u001b[0m\u001b[0;34m)\u001b[0m \u001b[0;34m+\u001b[0m \u001b[0mfib1\u001b[0m\u001b[0;34m(\u001b[0m\u001b[0mn\u001b[0m\u001b[0;34m-\u001b[0m\u001b[0;36m2\u001b[0m\u001b[0;34m)\u001b[0m\u001b[0;34m\u001b[0m\u001b[0;34m\u001b[0m\u001b[0m\n\u001b[0m\u001b[1;32m      3\u001b[0m \u001b[0;34m\u001b[0m\u001b[0m\n\u001b[1;32m      4\u001b[0m \u001b[0;32mif\u001b[0m \u001b[0m__name__\u001b[0m \u001b[0;34m==\u001b[0m \u001b[0;34m\"__main__\"\u001b[0m\u001b[0;34m:\u001b[0m\u001b[0;34m\u001b[0m\u001b[0;34m\u001b[0m\u001b[0m\n\u001b[1;32m      5\u001b[0m     \u001b[0mprint\u001b[0m\u001b[0;34m(\u001b[0m\u001b[0mfib1\u001b[0m\u001b[0;34m(\u001b[0m\u001b[0;36m4\u001b[0m\u001b[0;34m)\u001b[0m\u001b[0;34m)\u001b[0m\u001b[0;34m\u001b[0m\u001b[0;34m\u001b[0m\u001b[0m\n",
      "... last 1 frames repeated, from the frame below ...\n",
      "\u001b[0;32m<ipython-input-20-f3705de61ffb>\u001b[0m in \u001b[0;36mfib1\u001b[0;34m(n)\u001b[0m\n\u001b[1;32m      1\u001b[0m \u001b[0;32mdef\u001b[0m \u001b[0mfib1\u001b[0m\u001b[0;34m(\u001b[0m\u001b[0mn\u001b[0m\u001b[0;34m)\u001b[0m\u001b[0;34m:\u001b[0m\u001b[0;34m\u001b[0m\u001b[0;34m\u001b[0m\u001b[0m\n\u001b[0;32m----> 2\u001b[0;31m     \u001b[0;32mreturn\u001b[0m \u001b[0mfib1\u001b[0m\u001b[0;34m(\u001b[0m\u001b[0mn\u001b[0m\u001b[0;34m-\u001b[0m\u001b[0;36m1\u001b[0m\u001b[0;34m)\u001b[0m \u001b[0;34m+\u001b[0m \u001b[0mfib1\u001b[0m\u001b[0;34m(\u001b[0m\u001b[0mn\u001b[0m\u001b[0;34m-\u001b[0m\u001b[0;36m2\u001b[0m\u001b[0;34m)\u001b[0m\u001b[0;34m\u001b[0m\u001b[0;34m\u001b[0m\u001b[0m\n\u001b[0m\u001b[1;32m      3\u001b[0m \u001b[0;34m\u001b[0m\u001b[0m\n\u001b[1;32m      4\u001b[0m \u001b[0;32mif\u001b[0m \u001b[0m__name__\u001b[0m \u001b[0;34m==\u001b[0m \u001b[0;34m\"__main__\"\u001b[0m\u001b[0;34m:\u001b[0m\u001b[0;34m\u001b[0m\u001b[0;34m\u001b[0m\u001b[0m\n\u001b[1;32m      5\u001b[0m     \u001b[0mprint\u001b[0m\u001b[0;34m(\u001b[0m\u001b[0mfib1\u001b[0m\u001b[0;34m(\u001b[0m\u001b[0;36m4\u001b[0m\u001b[0;34m)\u001b[0m\u001b[0;34m)\u001b[0m\u001b[0;34m\u001b[0m\u001b[0;34m\u001b[0m\u001b[0m\n",
      "\u001b[0;31mRecursionError\u001b[0m: maximum recursion depth exceeded"
     ]
    }
   ],
   "metadata": {}
  },
  {
   "cell_type": "code",
   "execution_count": 29,
   "source": [
    "# this recursive solution only works for small values\n",
    "def fib1(n):\n",
    "    if n < 2: # base case\n",
    "        return n\n",
    "    return fib1(n-1) + fib1(n-2) \n",
    "\n",
    "if __name__ == \"__main__\":\n",
    "    for i in range(1,11):\n",
    "        print(fib1(i), end=\" \")\n",
    "  "
   ],
   "outputs": [
    {
     "output_type": "stream",
     "name": "stdout",
     "text": [
      "1 1 2 3 5 8 13 21 34 55 "
     ]
    }
   ],
   "metadata": {}
  },
  {
   "cell_type": "code",
   "execution_count": 30,
   "source": [
    "\"MEMOIZATION\""
   ],
   "outputs": [
    {
     "output_type": "execute_result",
     "data": {
      "text/plain": [
       "'MEMOIZATION'"
      ]
     },
     "metadata": {},
     "execution_count": 30
    }
   ],
   "metadata": {}
  },
  {
   "cell_type": "code",
   "execution_count": 31,
   "source": [
    "\"\"\"MEMOIZATION IS A TECHNIQUE IN WHICH YOU STORE THE RESULTS OF COMPUTATIONAL TASKS WHEN THEY ARE COMPLETED SO THAT WHEN YOU NEED THEM AGAIN, \n",
    "YOU CAN LOOK THEM UO IN MEMORY INSTEAD OF NEEDING TO COMPUTE THEM A SECOND OR MILLIONTH TIME.\"\"\""
   ],
   "outputs": [
    {
     "output_type": "execute_result",
     "data": {
      "text/plain": [
       "'MEMOIZATION IS A TECHNIQUE IN WHICH YOU STORE THE RESULTS OF COMPUTATIONAL TASKS WHEN THEY ARE COMPLETED SO THAT WHEN YOU NEED THEM AGAIN, \\nYOU CAN LOOK THEM UO IN MEMORY INSTEAD OF NEEDING TO COMPUTE THEM A SECOND OR MILLIONTH TIME.'"
      ]
     },
     "metadata": {},
     "execution_count": 31
    }
   ],
   "metadata": {}
  },
  {
   "cell_type": "code",
   "execution_count": 47,
   "source": [
    "memo = {1: 1, 2: 2}\n",
    "\n",
    "def fib2(n):\n",
    "    if n not in memo:\n",
    "        memo[n] = fib2(n-1) + fib2(n-2)\n",
    "    return memo[n]\n",
    "\n",
    "if __name__=='__main__':\n",
    "    for i in range(1, 20):\n",
    "        print(f\"index {i} = {fib2(i)}\")\n",
    "   "
   ],
   "outputs": [
    {
     "output_type": "stream",
     "name": "stdout",
     "text": [
      "index 1 = 1\n",
      "index 2 = 2\n",
      "index 3 = 3\n",
      "index 4 = 5\n",
      "index 5 = 8\n",
      "index 6 = 13\n",
      "index 7 = 21\n",
      "index 8 = 34\n",
      "index 9 = 55\n",
      "index 10 = 89\n",
      "index 11 = 144\n",
      "index 12 = 233\n",
      "index 13 = 377\n",
      "index 14 = 610\n",
      "index 15 = 987\n",
      "index 16 = 1597\n",
      "index 17 = 2584\n",
      "index 18 = 4181\n",
      "index 19 = 6765\n"
     ]
    }
   ],
   "metadata": {}
  },
  {
   "cell_type": "code",
   "execution_count": 48,
   "source": [
    "\"\"\"AUTOMATIC MEMOIZATION\"\"\""
   ],
   "outputs": [
    {
     "output_type": "execute_result",
     "data": {
      "text/plain": [
       "'AUTOMATIC MEMOIZATION'"
      ]
     },
     "metadata": {},
     "execution_count": 48
    }
   ],
   "metadata": {}
  },
  {
   "cell_type": "code",
   "execution_count": 52,
   "source": [
    "from functools import lru_cache\n",
    "\n",
    "@lru_cache(maxsize=None)\n",
    "def fib(n):\n",
    "    if n < 2:\n",
    "        return n\n",
    "    return fib(n-1) + fib(n-2)\n",
    "\n",
    "if __name__=='__main__':\n",
    "    for n in range(1, 50):\n",
    "        print(n, ':', fib(n))"
   ],
   "outputs": [
    {
     "output_type": "stream",
     "name": "stdout",
     "text": [
      "1 : 1\n",
      "2 : 1\n",
      "3 : 2\n",
      "4 : 3\n",
      "5 : 5\n",
      "6 : 8\n",
      "7 : 13\n",
      "8 : 21\n",
      "9 : 34\n",
      "10 : 55\n",
      "11 : 89\n",
      "12 : 144\n",
      "13 : 233\n",
      "14 : 377\n",
      "15 : 610\n",
      "16 : 987\n",
      "17 : 1597\n",
      "18 : 2584\n",
      "19 : 4181\n",
      "20 : 6765\n",
      "21 : 10946\n",
      "22 : 17711\n",
      "23 : 28657\n",
      "24 : 46368\n",
      "25 : 75025\n",
      "26 : 121393\n",
      "27 : 196418\n",
      "28 : 317811\n",
      "29 : 514229\n",
      "30 : 832040\n",
      "31 : 1346269\n",
      "32 : 2178309\n",
      "33 : 3524578\n",
      "34 : 5702887\n",
      "35 : 9227465\n",
      "36 : 14930352\n",
      "37 : 24157817\n",
      "38 : 39088169\n",
      "39 : 63245986\n",
      "40 : 102334155\n",
      "41 : 165580141\n",
      "42 : 267914296\n",
      "43 : 433494437\n",
      "44 : 701408733\n",
      "45 : 1134903170\n",
      "46 : 1836311903\n",
      "47 : 2971215073\n",
      "48 : 4807526976\n",
      "49 : 7778742049\n"
     ]
    }
   ],
   "metadata": {}
  },
  {
   "cell_type": "code",
   "execution_count": 53,
   "source": [
    "\"\"\"SOLVING IT WITH AN OLD ITERATIVE APPROACH\"\"\""
   ],
   "outputs": [
    {
     "output_type": "execute_result",
     "data": {
      "text/plain": [
       "'SOLVING IT WITH AN OLD ITERATIVE APPROACH'"
      ]
     },
     "metadata": {},
     "execution_count": 53
    }
   ],
   "metadata": {}
  },
  {
   "cell_type": "code",
   "execution_count": 64,
   "source": [
    "def fib(n):\n",
    "    if n == 0: return 0 #base case\n",
    "    last = 0\n",
    "    next = 1\n",
    "    for num in range(1, n):\n",
    "        last, next = next, last + next\n",
    "    return next\n",
    "    \n",
    "\n",
    "if __name__ == '__main__':\n",
    "    print(fib(10))\n",
    "    print(fib(0))"
   ],
   "outputs": [
    {
     "output_type": "stream",
     "name": "stdout",
     "text": [
      "55\n",
      "0\n"
     ]
    }
   ],
   "metadata": {}
  },
  {
   "cell_type": "code",
   "execution_count": 65,
   "source": [
    "\"\"\"GENERATION FIBONACCI NUMBERS USING A GENERATOR\"\"\""
   ],
   "outputs": [
    {
     "output_type": "execute_result",
     "data": {
      "text/plain": [
       "'GENERATION FIBONACCI NUMBERS USING A GENERATOR'"
      ]
     },
     "metadata": {},
     "execution_count": 65
    }
   ],
   "metadata": {}
  },
  {
   "cell_type": "code",
   "execution_count": 69,
   "source": [
    "from typing import Generator\n",
    "\n",
    "def fib(n):\n",
    "    yield 0 \n",
    "    if n > 0: yield 1\n",
    "    last = 0\n",
    "    next = 1\n",
    "    for _ in range(1, n):\n",
    "        last, next = next, last + next\n",
    "        yield next\n",
    "\n",
    "if __name__==\"__main__\":\n",
    "    for i in fib(50):\n",
    "        print(i)\n"
   ],
   "outputs": [
    {
     "output_type": "stream",
     "name": "stdout",
     "text": [
      "0\n",
      "1\n",
      "1\n",
      "2\n",
      "3\n",
      "5\n",
      "8\n",
      "13\n",
      "21\n",
      "34\n",
      "55\n",
      "89\n",
      "144\n",
      "233\n",
      "377\n",
      "610\n",
      "987\n",
      "1597\n",
      "2584\n",
      "4181\n",
      "6765\n",
      "10946\n",
      "17711\n",
      "28657\n",
      "46368\n",
      "75025\n",
      "121393\n",
      "196418\n",
      "317811\n",
      "514229\n",
      "832040\n",
      "1346269\n",
      "2178309\n",
      "3524578\n",
      "5702887\n",
      "9227465\n",
      "14930352\n",
      "24157817\n",
      "39088169\n",
      "63245986\n",
      "102334155\n",
      "165580141\n",
      "267914296\n",
      "433494437\n",
      "701408733\n",
      "1134903170\n",
      "1836311903\n",
      "2971215073\n",
      "4807526976\n",
      "7778742049\n",
      "12586269025\n"
     ]
    }
   ],
   "metadata": {}
  },
  {
   "cell_type": "code",
   "execution_count": null,
   "source": [],
   "outputs": [],
   "metadata": {}
  }
 ],
 "metadata": {
  "orig_nbformat": 4,
  "language_info": {
   "name": "python",
   "version": "3.8.3",
   "mimetype": "text/x-python",
   "codemirror_mode": {
    "name": "ipython",
    "version": 3
   },
   "pygments_lexer": "ipython3",
   "nbconvert_exporter": "python",
   "file_extension": ".py"
  },
  "kernelspec": {
   "name": "python3",
   "display_name": "Python 3.8.3 64-bit ('base': conda)"
  },
  "interpreter": {
   "hash": "dca0ade3e726a953b501b15e8e990130d2b7799f14cfd9f4271676035ebe5511"
  }
 },
 "nbformat": 4,
 "nbformat_minor": 2
}