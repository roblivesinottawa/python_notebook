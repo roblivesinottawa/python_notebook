{
 "cells": [
  {
   "cell_type": "code",
   "execution_count": null,
   "source": [
    "#compute the product of a list of integers#\n",
    "\n",
    "product = 1\n",
    "list_ = [1,2,3,4,5,6,7,8]\n",
    "for n in list_:\n",
    "    product *= n\n",
    "    print(f\"product of {n} is: {product}\")"
   ],
   "outputs": [],
   "metadata": {}
  },
  {
   "cell_type": "code",
   "execution_count": null,
   "source": [
    "from functools import reduce\n",
    "\n",
    "list_ = [1,2,3,4,5,6,7,8]\n",
    "product = reduce((lambda x, y: x * y), list_)\n",
    "print(product)"
   ],
   "outputs": [],
   "metadata": {}
  }
 ],
 "metadata": {
  "orig_nbformat": 4,
  "language_info": {
   "name": "python",
   "version": "3.8.3"
  },
  "kernelspec": {
   "name": "python3",
   "display_name": "Python 3.8.3 64-bit ('base': conda)"
  },
  "interpreter": {
   "hash": "dca0ade3e726a953b501b15e8e990130d2b7799f14cfd9f4271676035ebe5511"
  }
 },
 "nbformat": 4,
 "nbformat_minor": 2
}