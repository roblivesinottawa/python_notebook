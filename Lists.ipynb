{
 "cells": [
  {
   "cell_type": "markdown",
   "source": [
    "# LISTS"
   ],
   "metadata": {}
  },
  {
   "cell_type": "code",
   "execution_count": 78,
   "source": [
    "# A list is a collection of items in a particular order. It can be a simple list of strings, or a more complicated list containing multiple types of items."
   ],
   "outputs": [],
   "metadata": {}
  },
  {
   "cell_type": "code",
   "execution_count": 79,
   "source": [
    "bycicles = ['trek', 'cannondale', 'redline', 'specialized']\n",
    "print(bycicles)"
   ],
   "outputs": [
    {
     "output_type": "stream",
     "name": "stdout",
     "text": [
      "['trek', 'cannondale', 'redline', 'specialized']\n"
     ]
    }
   ],
   "metadata": {}
  },
  {
   "cell_type": "code",
   "execution_count": 80,
   "source": [
    "# to access the first item in a list, you can use the index number.\n",
    "print(bycicles[0])"
   ],
   "outputs": [
    {
     "output_type": "stream",
     "name": "stdout",
     "text": [
      "trek\n"
     ]
    }
   ],
   "metadata": {}
  },
  {
   "cell_type": "code",
   "execution_count": 81,
   "source": [
    "# to access the last item in a list, you can use the index number.\n",
    "print(bycicles[-1])"
   ],
   "outputs": [
    {
     "output_type": "stream",
     "name": "stdout",
     "text": [
      "specialized\n"
     ]
    }
   ],
   "metadata": {}
  },
  {
   "cell_type": "code",
   "execution_count": 82,
   "source": [
    "# to add an item to the end of a list, you can use the append method.\n",
    "bycicles.append('giant')"
   ],
   "outputs": [],
   "metadata": {}
  },
  {
   "cell_type": "code",
   "execution_count": 83,
   "source": [
    "# use the title method to capitalize the first letter of each word.\n",
    "print(bycicles[2].title())"
   ],
   "outputs": [
    {
     "output_type": "stream",
     "name": "stdout",
     "text": [
      "Redline\n"
     ]
    }
   ],
   "metadata": {}
  },
  {
   "cell_type": "code",
   "execution_count": 84,
   "source": [
    "# use a value from the list to compose a message.\n",
    "print(f\"My first road bike was a {bycicles[1].title()}\")"
   ],
   "outputs": [
    {
     "output_type": "stream",
     "name": "stdout",
     "text": [
      "My first road bike was a Cannondale\n"
     ]
    }
   ],
   "metadata": {}
  },
  {
   "cell_type": "markdown",
   "source": [
    "# LISTS EXERCISES"
   ],
   "metadata": {}
  },
  {
   "cell_type": "code",
   "execution_count": 85,
   "source": [
    "names = ['james', 'john', 'jack', 'jim', 'jill']\n",
    "names[0].title()"
   ],
   "outputs": [
    {
     "output_type": "execute_result",
     "data": {
      "text/plain": [
       "'James'"
      ]
     },
     "metadata": {},
     "execution_count": 85
    }
   ],
   "metadata": {}
  },
  {
   "cell_type": "code",
   "execution_count": 86,
   "source": [
    "for name in names:\n",
    "    print(f\"Hello {name}, How are you today?\")"
   ],
   "outputs": [
    {
     "output_type": "stream",
     "name": "stdout",
     "text": [
      "Hello james, How are you today?\n",
      "Hello john, How are you today?\n",
      "Hello jack, How are you today?\n",
      "Hello jim, How are you today?\n",
      "Hello jill, How are you today?\n"
     ]
    }
   ],
   "metadata": {}
  },
  {
   "cell_type": "code",
   "execution_count": 87,
   "source": [
    "makes = ['honda', 'toyota', 'subaru', 'bmw', 'ford', 'dodge']\n",
    "for make in makes:\n",
    "    if make == 'bmw':\n",
    "        print(f\"I'd like to own a {make} one day!\")\n",
    "    elif make == 'ford' or make == 'dodge':\n",
    "        print(f\"If I can't afford a {makes[-3]}, I would be okay with a {make}.\")\n",
    "    else:\n",
    "        print(f\"I don't like {make}\")\n"
   ],
   "outputs": [
    {
     "output_type": "stream",
     "name": "stdout",
     "text": [
      "I don't like honda\n",
      "I don't like toyota\n",
      "I don't like subaru\n",
      "I'd like to own a bmw one day!\n",
      "If I can't afford a bmw, I would be okay with a ford.\n",
      "If I can't afford a bmw, I would be okay with a dodge.\n"
     ]
    }
   ],
   "metadata": {}
  },
  {
   "cell_type": "code",
   "execution_count": 88,
   "source": [
    "avengers = ['hawkeye', 'iron man', 'black widow', 'captain america', 'thor', 'hulk']\n",
    "avengers"
   ],
   "outputs": [
    {
     "output_type": "execute_result",
     "data": {
      "text/plain": [
       "['hawkeye', 'iron man', 'black widow', 'captain america', 'thor', 'hulk']"
      ]
     },
     "metadata": {},
     "execution_count": 88
    }
   ],
   "metadata": {}
  },
  {
   "cell_type": "code",
   "execution_count": 89,
   "source": [
    "new_avengers = ['spider-man', 'doctor strange', 'black panther', 'falcon', 'winter soldier']\n",
    "new_avengers"
   ],
   "outputs": [
    {
     "output_type": "execute_result",
     "data": {
      "text/plain": [
       "['spider-man', 'doctor strange', 'black panther', 'falcon', 'winter soldier']"
      ]
     },
     "metadata": {},
     "execution_count": 89
    }
   ],
   "metadata": {}
  },
  {
   "cell_type": "code",
   "execution_count": 90,
   "source": [
    "all_avengers = avengers + new_avengers\n",
    "print(all_avengers, end=\" \")"
   ],
   "outputs": [
    {
     "output_type": "stream",
     "name": "stdout",
     "text": [
      "['hawkeye', 'iron man', 'black widow', 'captain america', 'thor', 'hulk', 'spider-man', 'doctor strange', 'black panther', 'falcon', 'winter soldier'] "
     ]
    }
   ],
   "metadata": {}
  },
  {
   "cell_type": "code",
   "execution_count": 91,
   "source": [
    "if 'captain america' in avengers:\n",
    "    print(f\"{avengers[-3].title()} has been replaced by {new_avengers[-2].title()}\")"
   ],
   "outputs": [
    {
     "output_type": "stream",
     "name": "stdout",
     "text": [
      "Captain America has been replaced by Falcon\n"
     ]
    }
   ],
   "metadata": {}
  },
  {
   "cell_type": "code",
   "execution_count": 92,
   "source": [
    "avengers[-3] = 'The Falcon'"
   ],
   "outputs": [],
   "metadata": {}
  },
  {
   "cell_type": "code",
   "execution_count": 93,
   "source": [
    "avengers"
   ],
   "outputs": [
    {
     "output_type": "execute_result",
     "data": {
      "text/plain": [
       "['hawkeye', 'iron man', 'black widow', 'The Falcon', 'thor', 'hulk']"
      ]
     },
     "metadata": {},
     "execution_count": 93
    }
   ],
   "metadata": {}
  },
  {
   "cell_type": "code",
   "execution_count": 94,
   "source": [
    "avenger_names = [avenger.title() for avenger in avengers]"
   ],
   "outputs": [],
   "metadata": {}
  },
  {
   "cell_type": "code",
   "execution_count": 95,
   "source": [
    "avenger_names"
   ],
   "outputs": [
    {
     "output_type": "execute_result",
     "data": {
      "text/plain": [
       "['Hawkeye', 'Iron Man', 'Black Widow', 'The Falcon', 'Thor', 'Hulk']"
      ]
     },
     "metadata": {},
     "execution_count": 95
    }
   ],
   "metadata": {}
  },
  {
   "cell_type": "code",
   "execution_count": 96,
   "source": [
    "avengers.append('ant-man')\n",
    "print(avengers)"
   ],
   "outputs": [
    {
     "output_type": "stream",
     "name": "stdout",
     "text": [
      "['hawkeye', 'iron man', 'black widow', 'The Falcon', 'thor', 'hulk', 'ant-man']\n"
     ]
    }
   ],
   "metadata": {}
  },
  {
   "cell_type": "code",
   "execution_count": 97,
   "source": [
    "avengers[3] = 'the falcon'"
   ],
   "outputs": [],
   "metadata": {}
  },
  {
   "cell_type": "code",
   "execution_count": 98,
   "source": [
    "avengers"
   ],
   "outputs": [
    {
     "output_type": "execute_result",
     "data": {
      "text/plain": [
       "['hawkeye', 'iron man', 'black widow', 'the falcon', 'thor', 'hulk', 'ant-man']"
      ]
     },
     "metadata": {},
     "execution_count": 98
    }
   ],
   "metadata": {}
  },
  {
   "cell_type": "code",
   "execution_count": 99,
   "source": [
    "computers = []\n",
    "\n",
    "computers.append('apple')\n",
    "computers.append('hp')\n",
    "computers.append('lenovo')\n",
    "computers.append('dell')\n",
    "computers.append('samsung')"
   ],
   "outputs": [],
   "metadata": {}
  },
  {
   "cell_type": "code",
   "execution_count": 100,
   "source": [
    "computers"
   ],
   "outputs": [
    {
     "output_type": "execute_result",
     "data": {
      "text/plain": [
       "['apple', 'hp', 'lenovo', 'dell', 'samsung']"
      ]
     },
     "metadata": {},
     "execution_count": 100
    }
   ],
   "metadata": {}
  },
  {
   "cell_type": "code",
   "execution_count": 101,
   "source": [
    "# extend is a method that adds more than one item to a list.\n",
    "computers = []\n",
    "\n",
    "def add_computer(listname, *comp_name):\n",
    "    listname.extend(comp_name)\n",
    "\n",
    "add_computer(computers, 'apple', 'hp', 'lenovo', 'dell', 'samsung')\n",
    "print(computers)"
   ],
   "outputs": [
    {
     "output_type": "stream",
     "name": "stdout",
     "text": [
      "['apple', 'hp', 'lenovo', 'dell', 'samsung']\n"
     ]
    }
   ],
   "metadata": {}
  },
  {
   "cell_type": "code",
   "execution_count": 102,
   "source": [
    "# inserting a value into a list at any index.\n",
    "numbers = [1, 2, 3, 4, 6, 7, 8, 9, 10]"
   ],
   "outputs": [],
   "metadata": {}
  },
  {
   "cell_type": "code",
   "execution_count": 103,
   "source": [
    "numbers"
   ],
   "outputs": [
    {
     "output_type": "execute_result",
     "data": {
      "text/plain": [
       "[1, 2, 3, 4, 6, 7, 8, 9, 10]"
      ]
     },
     "metadata": {},
     "execution_count": 103
    }
   ],
   "metadata": {}
  },
  {
   "cell_type": "code",
   "execution_count": 104,
   "source": [
    "numbers.insert(4, 5)"
   ],
   "outputs": [],
   "metadata": {}
  },
  {
   "cell_type": "code",
   "execution_count": 105,
   "source": [
    "numbers"
   ],
   "outputs": [
    {
     "output_type": "execute_result",
     "data": {
      "text/plain": [
       "[1, 2, 3, 4, 5, 6, 7, 8, 9, 10]"
      ]
     },
     "metadata": {},
     "execution_count": 105
    }
   ],
   "metadata": {}
  },
  {
   "cell_type": "code",
   "execution_count": 106,
   "source": [
    "del numbers[4]"
   ],
   "outputs": [],
   "metadata": {}
  },
  {
   "cell_type": "code",
   "execution_count": 107,
   "source": [
    "numbers"
   ],
   "outputs": [
    {
     "output_type": "execute_result",
     "data": {
      "text/plain": [
       "[1, 2, 3, 4, 6, 7, 8, 9, 10]"
      ]
     },
     "metadata": {},
     "execution_count": 107
    }
   ],
   "metadata": {}
  },
  {
   "cell_type": "code",
   "execution_count": 108,
   "source": [
    "def add_numbers(listname, *number):\n",
    "    listname.extend(number)\n",
    "\n",
    "add_numbers(numbers, 11, 12, 13, 14, 15, 16, 17, 18, 19, 20)\n",
    "print(numbers)"
   ],
   "outputs": [
    {
     "output_type": "stream",
     "name": "stdout",
     "text": [
      "[1, 2, 3, 4, 6, 7, 8, 9, 10, 11, 12, 13, 14, 15, 16, 17, 18, 19, 20]\n"
     ]
    }
   ],
   "metadata": {}
  },
  {
   "cell_type": "code",
   "execution_count": 109,
   "source": [
    "# the pop() method removes the last item from a list.\n",
    "computers.pop()"
   ],
   "outputs": [
    {
     "output_type": "execute_result",
     "data": {
      "text/plain": [
       "'samsung'"
      ]
     },
     "metadata": {},
     "execution_count": 109
    }
   ],
   "metadata": {}
  },
  {
   "cell_type": "code",
   "execution_count": 110,
   "source": [
    "computers"
   ],
   "outputs": [
    {
     "output_type": "execute_result",
     "data": {
      "text/plain": [
       "['apple', 'hp', 'lenovo', 'dell']"
      ]
     },
     "metadata": {},
     "execution_count": 110
    }
   ],
   "metadata": {}
  },
  {
   "cell_type": "code",
   "execution_count": 111,
   "source": [
    "never_owned = computers.pop()\n",
    "print(f\"I never owned a {never_owned.title()} computer.\")"
   ],
   "outputs": [
    {
     "output_type": "stream",
     "name": "stdout",
     "text": [
      "I never owned a Dell computer.\n"
     ]
    }
   ],
   "metadata": {}
  },
  {
   "cell_type": "code",
   "execution_count": 112,
   "source": [
    "print(all_avengers, end=\" \")"
   ],
   "outputs": [
    {
     "output_type": "stream",
     "name": "stdout",
     "text": [
      "['hawkeye', 'iron man', 'black widow', 'captain america', 'thor', 'hulk', 'spider-man', 'doctor strange', 'black panther', 'falcon', 'winter soldier'] "
     ]
    }
   ],
   "metadata": {}
  },
  {
   "cell_type": "code",
   "execution_count": 113,
   "source": [
    "# pop an item from any index in a list.\n",
    "all_avengers.pop(-1)"
   ],
   "outputs": [
    {
     "output_type": "execute_result",
     "data": {
      "text/plain": [
       "'winter soldier'"
      ]
     },
     "metadata": {},
     "execution_count": 113
    }
   ],
   "metadata": {}
  },
  {
   "cell_type": "code",
   "execution_count": 114,
   "source": [
    "all_avengers"
   ],
   "outputs": [
    {
     "output_type": "execute_result",
     "data": {
      "text/plain": [
       "['hawkeye',\n",
       " 'iron man',\n",
       " 'black widow',\n",
       " 'captain america',\n",
       " 'thor',\n",
       " 'hulk',\n",
       " 'spider-man',\n",
       " 'doctor strange',\n",
       " 'black panther',\n",
       " 'falcon']"
      ]
     },
     "metadata": {},
     "execution_count": 114
    }
   ],
   "metadata": {}
  },
  {
   "cell_type": "code",
   "execution_count": 115,
   "source": [
    "all_avengers.insert(-1, 'winter soldier')"
   ],
   "outputs": [],
   "metadata": {}
  },
  {
   "cell_type": "code",
   "execution_count": 116,
   "source": [
    "all_avengers"
   ],
   "outputs": [
    {
     "output_type": "execute_result",
     "data": {
      "text/plain": [
       "['hawkeye',\n",
       " 'iron man',\n",
       " 'black widow',\n",
       " 'captain america',\n",
       " 'thor',\n",
       " 'hulk',\n",
       " 'spider-man',\n",
       " 'doctor strange',\n",
       " 'black panther',\n",
       " 'winter soldier',\n",
       " 'falcon']"
      ]
     },
     "metadata": {},
     "execution_count": 116
    }
   ],
   "metadata": {}
  },
  {
   "cell_type": "code",
   "execution_count": 118,
   "source": [
    "# remove an item by value.\n",
    "computers.remove('lenovo')"
   ],
   "outputs": [],
   "metadata": {}
  },
  {
   "cell_type": "code",
   "execution_count": 119,
   "source": [
    "computers"
   ],
   "outputs": [
    {
     "output_type": "execute_result",
     "data": {
      "text/plain": [
       "['apple', 'hp']"
      ]
     },
     "metadata": {},
     "execution_count": 119
    }
   ],
   "metadata": {}
  },
  {
   "cell_type": "code",
   "execution_count": 120,
   "source": [
    "computers.insert(-1, 'dell')"
   ],
   "outputs": [],
   "metadata": {}
  },
  {
   "cell_type": "code",
   "execution_count": 121,
   "source": [
    "computers"
   ],
   "outputs": [
    {
     "output_type": "execute_result",
     "data": {
      "text/plain": [
       "['apple', 'dell', 'hp']"
      ]
     },
     "metadata": {},
     "execution_count": 121
    }
   ],
   "metadata": {}
  },
  {
   "cell_type": "code",
   "execution_count": 123,
   "source": [
    "most_expensive = computers[0]\n",
    "computers.remove(most_expensive)\n",
    "print(computers)\n",
    "print(f\"The most expensive computer I've owned is a {most_expensive.title()} computer.\")\n"
   ],
   "outputs": [
    {
     "output_type": "stream",
     "name": "stdout",
     "text": [
      "['hp']\n",
      "The most expensive computer I've owned is a Dell computer.\n"
     ]
    }
   ],
   "metadata": {}
  },
  {
   "cell_type": "code",
   "execution_count": 124,
   "source": [
    "computers.insert(0, 'apple')"
   ],
   "outputs": [],
   "metadata": {}
  },
  {
   "cell_type": "code",
   "execution_count": 125,
   "source": [
    "computers"
   ],
   "outputs": [
    {
     "output_type": "execute_result",
     "data": {
      "text/plain": [
       "['apple', 'hp']"
      ]
     },
     "metadata": {},
     "execution_count": 125
    }
   ],
   "metadata": {}
  },
  {
   "cell_type": "code",
   "execution_count": 126,
   "source": [
    "add_computer(computers, 'apple', 'hp', 'lenovo', 'dell', 'samsung')"
   ],
   "outputs": [],
   "metadata": {}
  },
  {
   "cell_type": "code",
   "execution_count": 127,
   "source": [
    "computers"
   ],
   "outputs": [
    {
     "output_type": "execute_result",
     "data": {
      "text/plain": [
       "['apple', 'hp', 'apple', 'hp', 'lenovo', 'dell', 'samsung']"
      ]
     },
     "metadata": {},
     "execution_count": 127
    }
   ],
   "metadata": {}
  },
  {
   "cell_type": "code",
   "execution_count": 128,
   "source": [
    "computers.remove('apple')"
   ],
   "outputs": [],
   "metadata": {}
  },
  {
   "cell_type": "code",
   "execution_count": 129,
   "source": [
    "computers"
   ],
   "outputs": [
    {
     "output_type": "execute_result",
     "data": {
      "text/plain": [
       "['hp', 'apple', 'hp', 'lenovo', 'dell', 'samsung']"
      ]
     },
     "metadata": {},
     "execution_count": 129
    }
   ],
   "metadata": {}
  },
  {
   "cell_type": "code",
   "execution_count": 130,
   "source": [
    "computers.remove('hp')"
   ],
   "outputs": [],
   "metadata": {}
  },
  {
   "cell_type": "code",
   "execution_count": 131,
   "source": [
    "computers"
   ],
   "outputs": [
    {
     "output_type": "execute_result",
     "data": {
      "text/plain": [
       "['apple', 'hp', 'lenovo', 'dell', 'samsung']"
      ]
     },
     "metadata": {},
     "execution_count": 131
    }
   ],
   "metadata": {}
  },
  {
   "cell_type": "code",
   "execution_count": 133,
   "source": [
    "for computer in computers:\n",
    "    print(computer.title())"
   ],
   "outputs": [
    {
     "output_type": "stream",
     "name": "stdout",
     "text": [
      "Apple\n",
      "Hp\n",
      "Lenovo\n",
      "Dell\n",
      "Samsung\n"
     ]
    }
   ],
   "metadata": {}
  },
  {
   "cell_type": "markdown",
   "source": [
    "# EXERCISES"
   ],
   "metadata": {}
  },
  {
   "cell_type": "code",
   "execution_count": 143,
   "source": [
    "guest_list = ['tupac', 'bob marley', 'kurt cobain']\n",
    "for guest in guest_list:\n",
    "    print(f\"Dear {guest.title()}, please come to my party.\")"
   ],
   "outputs": [
    {
     "output_type": "stream",
     "name": "stdout",
     "text": [
      "Dear Tupac, please come to my party.\n",
      "Dear Bob Marley, please come to my party.\n",
      "Dear Kurt Cobain, please come to my party.\n"
     ]
    }
   ],
   "metadata": {}
  },
  {
   "cell_type": "code",
   "execution_count": 144,
   "source": [
    "cant_come = guest_list.pop(-1)\n",
    "print(f\"{cant_come} can't make it to the party.\")\n",
    "guest_list.append('steve jobs')\n",
    "print(f\"The new guest {guest_list[-1]} will replace {cant_come} on the guest list.\")\n"
   ],
   "outputs": [
    {
     "output_type": "stream",
     "name": "stdout",
     "text": [
      "kurt cobain can't make it to the party.\n",
      "The new guest steve jobs will replace kurt cobain on the guest list.\n"
     ]
    }
   ],
   "metadata": {}
  },
  {
   "cell_type": "code",
   "execution_count": 145,
   "source": [
    "def add_guests(listname, *guest):\n",
    "    listname.extend(guest)\n",
    "\n",
    "add_guests(guest_list, 'jimi hendrix', 'notorious big', 'malcolm x')\n",
    "print(f\"The new guest list is {guest_list}\")"
   ],
   "outputs": [
    {
     "output_type": "stream",
     "name": "stdout",
     "text": [
      "The new guest list is ['tupac', 'bob marley', 'steve jobs', 'jimi hendrix', 'notorious big', 'malcolm x']\n"
     ]
    }
   ],
   "metadata": {}
  },
  {
   "cell_type": "code",
   "execution_count": 146,
   "source": [
    "guest_list.insert(0, 'snoop dogg')"
   ],
   "outputs": [],
   "metadata": {}
  },
  {
   "cell_type": "code",
   "execution_count": 147,
   "source": [
    "guest_list"
   ],
   "outputs": [
    {
     "output_type": "execute_result",
     "data": {
      "text/plain": [
       "['snoop dogg',\n",
       " 'tupac',\n",
       " 'bob marley',\n",
       " 'steve jobs',\n",
       " 'jimi hendrix',\n",
       " 'notorious big',\n",
       " 'malcolm x']"
      ]
     },
     "metadata": {},
     "execution_count": 147
    }
   ],
   "metadata": {}
  },
  {
   "cell_type": "code",
   "execution_count": 148,
   "source": [
    "len(guest_list)"
   ],
   "outputs": [
    {
     "output_type": "execute_result",
     "data": {
      "text/plain": [
       "7"
      ]
     },
     "metadata": {},
     "execution_count": 148
    }
   ],
   "metadata": {}
  },
  {
   "cell_type": "code",
   "execution_count": 149,
   "source": [
    "guest_list.insert(3, 'the beatles')"
   ],
   "outputs": [],
   "metadata": {}
  },
  {
   "cell_type": "code",
   "execution_count": 150,
   "source": [
    "guest_list"
   ],
   "outputs": [
    {
     "output_type": "execute_result",
     "data": {
      "text/plain": [
       "['snoop dogg',\n",
       " 'tupac',\n",
       " 'bob marley',\n",
       " 'the beatles',\n",
       " 'steve jobs',\n",
       " 'jimi hendrix',\n",
       " 'notorious big',\n",
       " 'malcolm x']"
      ]
     },
     "metadata": {},
     "execution_count": 150
    }
   ],
   "metadata": {}
  },
  {
   "cell_type": "code",
   "execution_count": 151,
   "source": [
    "guest_list.append('the rolling stones')"
   ],
   "outputs": [],
   "metadata": {}
  },
  {
   "cell_type": "code",
   "execution_count": 152,
   "source": [
    "guest_list"
   ],
   "outputs": [
    {
     "output_type": "execute_result",
     "data": {
      "text/plain": [
       "['snoop dogg',\n",
       " 'tupac',\n",
       " 'bob marley',\n",
       " 'the beatles',\n",
       " 'steve jobs',\n",
       " 'jimi hendrix',\n",
       " 'notorious big',\n",
       " 'malcolm x',\n",
       " 'the rolling stones']"
      ]
     },
     "metadata": {},
     "execution_count": 152
    }
   ],
   "metadata": {}
  },
  {
   "cell_type": "code",
   "execution_count": 153,
   "source": [
    "for guest in guest_list:\n",
    "    print(f\"Dear {guest.title()}, please come to my party.\")"
   ],
   "outputs": [
    {
     "output_type": "stream",
     "name": "stdout",
     "text": [
      "Dear Snoop Dogg, please come to my party.\n",
      "Dear Tupac, please come to my party.\n",
      "Dear Bob Marley, please come to my party.\n",
      "Dear The Beatles, please come to my party.\n",
      "Dear Steve Jobs, please come to my party.\n",
      "Dear Jimi Hendrix, please come to my party.\n",
      "Dear Notorious Big, please come to my party.\n",
      "Dear Malcolm X, please come to my party.\n",
      "Dear The Rolling Stones, please come to my party.\n"
     ]
    }
   ],
   "metadata": {}
  },
  {
   "cell_type": "code",
   "execution_count": 158,
   "source": [
    "print(guest_list, end=\" \")"
   ],
   "outputs": [
    {
     "output_type": "stream",
     "name": "stdout",
     "text": [
      "['snoop dogg', 'tupac', 'bob marley', 'the beatles', 'steve jobs', 'jimi hendrix', 'notorious big', 'malcolm x', 'the rolling stones'] "
     ]
    }
   ],
   "metadata": {}
  },
  {
   "cell_type": "code",
   "execution_count": 166,
   "source": [
    "print(\"Sorry I can only have two of you at the party.\")\n",
    "\n",
    "for guest in guest_list:\n",
    "    if guest != 'tupac' and guest != 'steve jobs':\n",
    "        print(f\"Sorry {guest.title()}, I can't have you at the party.\")\n",
    "    else:\n",
    "        print(f\"{guest.title()}, you are still on the list.\")"
   ],
   "outputs": [
    {
     "output_type": "stream",
     "name": "stdout",
     "text": [
      "Sorry I can only have two of you at the party.\n",
      "Sorry Snoop Dogg, I can't have you at the party.\n",
      "Tupac, you are still on the list.\n",
      "Sorry Bob Marley, I can't have you at the party.\n",
      "Sorry The Beatles, I can't have you at the party.\n",
      "Steve Jobs, you are still on the list.\n",
      "Sorry Jimi Hendrix, I can't have you at the party.\n",
      "Sorry Notorious Big, I can't have you at the party.\n",
      "Sorry Malcolm X, I can't have you at the party.\n",
      "Sorry The Rolling Stones, I can't have you at the party.\n"
     ]
    }
   ],
   "metadata": {}
  },
  {
   "cell_type": "code",
   "execution_count": 167,
   "source": [
    "guest_list"
   ],
   "outputs": [
    {
     "output_type": "execute_result",
     "data": {
      "text/plain": [
       "['snoop dogg',\n",
       " 'tupac',\n",
       " 'bob marley',\n",
       " 'the beatles',\n",
       " 'steve jobs',\n",
       " 'jimi hendrix',\n",
       " 'notorious big',\n",
       " 'malcolm x',\n",
       " 'the rolling stones']"
      ]
     },
     "metadata": {},
     "execution_count": 167
    }
   ],
   "metadata": {}
  },
  {
   "cell_type": "code",
   "execution_count": null,
   "source": [],
   "outputs": [],
   "metadata": {}
  }
 ],
 "metadata": {
  "orig_nbformat": 4,
  "language_info": {
   "name": "python",
   "version": "3.8.3",
   "mimetype": "text/x-python",
   "codemirror_mode": {
    "name": "ipython",
    "version": 3
   },
   "pygments_lexer": "ipython3",
   "nbconvert_exporter": "python",
   "file_extension": ".py"
  },
  "kernelspec": {
   "name": "python3",
   "display_name": "Python 3.8.3 64-bit ('base': conda)"
  },
  "interpreter": {
   "hash": "dca0ade3e726a953b501b15e8e990130d2b7799f14cfd9f4271676035ebe5511"
  }
 },
 "nbformat": 4,
 "nbformat_minor": 2
}