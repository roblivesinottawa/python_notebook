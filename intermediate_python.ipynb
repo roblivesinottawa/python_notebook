{
 "cells": [
  {
   "cell_type": "code",
   "execution_count": 2,
   "source": [
    "###*Args and **Kwargs"
   ],
   "outputs": [],
   "metadata": {}
  },
  {
   "cell_type": "markdown",
   "source": [],
   "metadata": {}
  },
  {
   "cell_type": "code",
   "execution_count": 3,
   "source": [
    "def test_args(f_arg, *args):\n",
    "    print(\"first normal argument:\", f_arg)\n",
    "    for arg in args:\n",
    "        print(\"another arg through *args\", arg)\n",
    "\n",
    "test_args('Robson', 'Python', 'eggs', 'test')\n"
   ],
   "outputs": [
    {
     "output_type": "stream",
     "name": "stdout",
     "text": [
      "first normal argument: Robson\n",
      "another arg through *args Python\n",
      "another arg through *args eggs\n",
      "another arg through *args test\n"
     ]
    }
   ],
   "metadata": {}
  },
  {
   "cell_type": "code",
   "execution_count": 4,
   "source": [
    "\"\"\"HOW TO APPLY FILTERS TO THE FUNCTIONS USING THE FILTER METHOD\"\"\""
   ],
   "outputs": [
    {
     "output_type": "execute_result",
     "data": {
      "text/plain": [
       "'HOW TO APPLY FILTERS TO THE FUNCTIONS USING THE FILTER METHOD'"
      ]
     },
     "metadata": {},
     "execution_count": 4
    }
   ],
   "metadata": {}
  },
  {
   "cell_type": "code",
   "execution_count": 6,
   "source": [
    "def positives():\n",
    "    \"\"\"this function gets all the positive numbers\"\"\"\n",
    "    num = []\n",
    "    for n in range(-10, 10):\n",
    "        if n > 0:\n",
    "            num.append(n)\n",
    "    return num\n",
    "\n",
    "print(positives())\n",
    "\n",
    "# this a version of the above function that uses list comprehension\n",
    "nums = range(-10, 10)\n",
    "positive = list(filter(lambda  n : n > 0, nums))\n",
    "print(positive)"
   ],
   "outputs": [
    {
     "output_type": "stream",
     "name": "stdout",
     "text": [
      "[1, 2, 3, 4, 5, 6, 7, 8, 9]\n",
      "[1, 2, 3, 4, 5, 6, 7, 8, 9]\n"
     ]
    }
   ],
   "metadata": {}
  },
  {
   "cell_type": "code",
   "execution_count": 7,
   "source": [
    "def odds():\n",
    "    odd_numbers = []\n",
    "    for odd in range(-10, 10):\n",
    "        if odd % 2 != 0:\n",
    "            odd_numbers.append(odd)\n",
    "    return odd_numbers\n",
    "\n",
    "print(odds())\n",
    "\n",
    "odds = list(filter(lambda n : n % 2 != 0, nums))\n",
    "print(odds)\n"
   ],
   "outputs": [
    {
     "output_type": "stream",
     "name": "stdout",
     "text": [
      "[-9, -7, -5, -3, -1, 1, 3, 5, 7, 9]\n",
      "[-9, -7, -5, -3, -1, 1, 3, 5, 7, 9]\n"
     ]
    }
   ],
   "metadata": {}
  },
  {
   "cell_type": "code",
   "execution_count": 8,
   "source": [
    "\n",
    "def evens():\n",
    "    even_nums = []\n",
    "    for even in range(-10, 10):\n",
    "        if even % 2 == 0:\n",
    "            even_nums.append(even)\n",
    "    return even_nums\n",
    "\n",
    "print(evens())\n",
    "evens = list(filter(lambda n : n % 2 == 0, nums))\n",
    "print(evens)"
   ],
   "outputs": [
    {
     "output_type": "stream",
     "name": "stdout",
     "text": [
      "[-10, -8, -6, -4, -2, 0, 2, 4, 6, 8]\n",
      "[-10, -8, -6, -4, -2, 0, 2, 4, 6, 8]\n"
     ]
    }
   ],
   "metadata": {}
  },
  {
   "cell_type": "code",
   "execution_count": 9,
   "source": [
    "def negatives():\n",
    "    n = []\n",
    "    for num in range(-10, 10):\n",
    "        if num < 0:\n",
    "            n.append(num)\n",
    "    return n\n",
    "\n",
    "print(negatives())\n",
    "\n",
    "nums = range(-10, 10)\n",
    "\n",
    "negative = list(filter(lambda x: x < 0, nums))\n",
    "print(negative)"
   ],
   "outputs": [
    {
     "output_type": "stream",
     "name": "stdout",
     "text": [
      "[-10, -9, -8, -7, -6, -5, -4, -3, -2, -1]\n",
      "[-10, -9, -8, -7, -6, -5, -4, -3, -2, -1]\n"
     ]
    }
   ],
   "metadata": {}
  },
  {
   "cell_type": "code",
   "execution_count": 15,
   "source": [
    "def gen():\n",
    "    \"\"\"generators are iterators that can iterate over just once\"\"\"\n",
    "    for x in range(20):\n",
    "        yield x\n",
    "\n",
    "\n",
    "for item in gen():\n",
    "    print(item, end=' ')\n",
    "\n",
    "# a better use is when calculating large sets of numbers\n",
    "\n",
    "\n",
    "# def fibonacci(n):\n",
    "#     a = b = 1\n",
    "#     for x in range(n):\n",
    "#         yield a\n",
    "#         a, b = b, a + b\n",
    "\n",
    "\n",
    "# for i in fibonacci(100):\n",
    "#     print(i)\n",
    "\n",
    "\n",
    "def fib(num):\n",
    "    a = b = 1\n",
    "    result = []\n",
    "    for x in range(num):\n",
    "        result.append(a)\n",
    "        a, b = b, a + b\n",
    "    return result\n",
    "\n",
    "\n",
    "for i in fib(10):\n",
    "    print(i, end='\\n ')"
   ],
   "outputs": [
    {
     "output_type": "stream",
     "name": "stdout",
     "text": [
      "0 1 2 3 4 5 6 7 8 9 10 11 12 13 14 15 16 17 18 19 1\n",
      " 1\n",
      " 2\n",
      " 3\n",
      " 5\n",
      " 8\n",
      " 13\n",
      " 21\n",
      " 34\n",
      " 55\n",
      " "
     ]
    }
   ],
   "metadata": {}
  },
  {
   "cell_type": "code",
   "execution_count": null,
   "source": [],
   "outputs": [],
   "metadata": {}
  }
 ],
 "metadata": {
  "orig_nbformat": 4,
  "language_info": {
   "name": "python",
   "version": "3.8.3",
   "mimetype": "text/x-python",
   "codemirror_mode": {
    "name": "ipython",
    "version": 3
   },
   "pygments_lexer": "ipython3",
   "nbconvert_exporter": "python",
   "file_extension": ".py"
  },
  "kernelspec": {
   "name": "python3",
   "display_name": "Python 3.8.3 64-bit ('base': conda)"
  },
  "interpreter": {
   "hash": "dca0ade3e726a953b501b15e8e990130d2b7799f14cfd9f4271676035ebe5511"
  }
 },
 "nbformat": 4,
 "nbformat_minor": 2
}