{
 "cells": [
  {
   "cell_type": "code",
   "execution_count": 2,
   "source": [
    "###*Args and **Kwargs"
   ],
   "outputs": [],
   "metadata": {}
  },
  {
   "cell_type": "markdown",
   "source": [],
   "metadata": {}
  },
  {
   "cell_type": "code",
   "execution_count": 3,
   "source": [
    "def test_args(f_arg, *args):\n",
    "    print(\"first normal argument:\", f_arg)\n",
    "    for arg in args:\n",
    "        print(\"another arg through *args\", arg)\n",
    "\n",
    "test_args('Robson', 'Python', 'eggs', 'test')\n"
   ],
   "outputs": [
    {
     "output_type": "stream",
     "name": "stdout",
     "text": [
      "first normal argument: Robson\n",
      "another arg through *args Python\n",
      "another arg through *args eggs\n",
      "another arg through *args test\n"
     ]
    }
   ],
   "metadata": {}
  },
  {
   "cell_type": "code",
   "execution_count": 4,
   "source": [
    "\"\"\"HOW TO APPLY FILTERS TO THE FUNCTIONS USING THE FILTER METHOD\"\"\""
   ],
   "outputs": [
    {
     "output_type": "execute_result",
     "data": {
      "text/plain": [
       "'HOW TO APPLY FILTERS TO THE FUNCTIONS USING THE FILTER METHOD'"
      ]
     },
     "metadata": {},
     "execution_count": 4
    }
   ],
   "metadata": {}
  },
  {
   "cell_type": "code",
   "execution_count": 6,
   "source": [
    "def positives():\n",
    "    \"\"\"this function gets all the positive numbers\"\"\"\n",
    "    num = []\n",
    "    for n in range(-10, 10):\n",
    "        if n > 0:\n",
    "            num.append(n)\n",
    "    return num\n",
    "\n",
    "print(positives())\n",
    "\n",
    "# this a version of the above function that uses list comprehension\n",
    "nums = range(-10, 10)\n",
    "positive = list(filter(lambda  n : n > 0, nums))\n",
    "print(positive)"
   ],
   "outputs": [
    {
     "output_type": "stream",
     "name": "stdout",
     "text": [
      "[1, 2, 3, 4, 5, 6, 7, 8, 9]\n",
      "[1, 2, 3, 4, 5, 6, 7, 8, 9]\n"
     ]
    }
   ],
   "metadata": {}
  },
  {
   "cell_type": "code",
   "execution_count": null,
   "source": [
    "def odds():\n",
    "    odd_numbers = []\n",
    "    for odd in range(-10, 10):\n",
    "        if odd % 2 != 0:\n",
    "            odd_numbers.append(odd)\n",
    "    return odd_numbers\n",
    "\n",
    "print(odds())\n",
    "\n",
    "odds = list(filter(lambda n : n % 2 != 0, nums))\n",
    "print(odds)\n"
   ],
   "outputs": [],
   "metadata": {}
  },
  {
   "cell_type": "code",
   "execution_count": null,
   "source": [
    "\n",
    "def evens():\n",
    "    even_nums = []\n",
    "    for even in range(-10, 10):\n",
    "        if even % 2 == 0:\n",
    "            even_nums.append(even)\n",
    "    return even_nums\n",
    "\n",
    "print(evens())\n",
    "evens = list(filter(lambda n : n % 2 == 0, nums))\n",
    "print(evens)"
   ],
   "outputs": [],
   "metadata": {}
  },
  {
   "cell_type": "code",
   "execution_count": null,
   "source": [
    "def negatives():\n",
    "    n = []\n",
    "    for num in range(-10, 10):\n",
    "        if num < 0:\n",
    "            n.append(num)\n",
    "    return n\n",
    "\n",
    "print(negatives())\n",
    "\n",
    "nums = range(-10, 10)\n",
    "\n",
    "negative = list(filter(lambda x: x < 0, nums))\n",
    "print(negative)"
   ],
   "outputs": [],
   "metadata": {}
  },
  {
   "cell_type": "code",
   "execution_count": null,
   "source": [],
   "outputs": [],
   "metadata": {}
  }
 ],
 "metadata": {
  "orig_nbformat": 4,
  "language_info": {
   "name": "python",
   "version": "3.8.3",
   "mimetype": "text/x-python",
   "codemirror_mode": {
    "name": "ipython",
    "version": 3
   },
   "pygments_lexer": "ipython3",
   "nbconvert_exporter": "python",
   "file_extension": ".py"
  },
  "kernelspec": {
   "name": "python3",
   "display_name": "Python 3.8.3 64-bit ('base': conda)"
  },
  "interpreter": {
   "hash": "dca0ade3e726a953b501b15e8e990130d2b7799f14cfd9f4271676035ebe5511"
  }
 },
 "nbformat": 4,
 "nbformat_minor": 2
}