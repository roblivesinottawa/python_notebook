{
 "cells": [
  {
   "cell_type": "code",
   "execution_count": null,
   "source": [
    "import random\n",
    "num = random.randint(0, 11)\n",
    "guess_number = int(input('Enter an integer: >>> '))\n",
    "result = 'number has been guessed correctly' if guess_number == num else 'number was incorrect'\n",
    "print(result)"
   ],
   "outputs": [],
   "metadata": {}
  },
  {
   "cell_type": "code",
   "execution_count": null,
   "source": [
    "is_on = True\n",
    "game_state = \"continue\" if is_on else \"don't continue\"\n",
    "print(game_state)"
   ],
   "outputs": [],
   "metadata": {}
  },
  {
   "cell_type": "code",
   "execution_count": null,
   "source": [
    "def welcome():\n",
    "    user = input(\"Enter name: >>> \")\n",
    "    return f\"hello, {user}.\" if user == \"Rob\" else f\"you are not the main user.\"\n",
    "\n",
    "print(welcome())"
   ],
   "outputs": [],
   "metadata": {}
  }
 ],
 "metadata": {
  "orig_nbformat": 4,
  "language_info": {
   "name": "python",
   "version": "3.8.3"
  },
  "kernelspec": {
   "name": "python3",
   "display_name": "Python 3.8.3 64-bit ('base': conda)"
  },
  "interpreter": {
   "hash": "dca0ade3e726a953b501b15e8e990130d2b7799f14cfd9f4271676035ebe5511"
  }
 },
 "nbformat": 4,
 "nbformat_minor": 2
}