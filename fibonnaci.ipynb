{
 "cells": [
  {
   "cell_type": "code",
   "execution_count": null,
   "source": [
    "\"\"\"The fibonaci sequence is a sequence of numbers such that any number except for the first and second is the sum of the previous two.\n",
    "\n",
    "    0, 1, 1, 2, 3, 5, 8, 13, 21\n",
    "\n",
    "    THIS IS THE FORMAULA TO GET THE FIBONNACI SEQUENCE:\n",
    "    fib(n) = fib(n-1) + fib(n-2)\n",
    "\n",
    "\"\"\""
   ],
   "outputs": [],
   "metadata": {}
  },
  {
   "cell_type": "code",
   "execution_count": null,
   "source": [
    "\"A RECURSIVE ATTEMPT\""
   ],
   "outputs": [],
   "metadata": {}
  },
  {
   "cell_type": "code",
   "execution_count": null,
   "source": [
    "def fib1(n):\n",
    "    return fib1(n-1) + fib1(n-2) \n",
    "\n",
    "if __name__ == \"__main__\":\n",
    "    print(fib1(4))"
   ],
   "outputs": [],
   "metadata": {}
  },
  {
   "cell_type": "code",
   "execution_count": null,
   "source": [],
   "outputs": [],
   "metadata": {}
  }
 ],
 "metadata": {
  "orig_nbformat": 4,
  "language_info": {
   "name": "python",
   "version": "3.8.3"
  },
  "kernelspec": {
   "name": "python3",
   "display_name": "Python 3.8.3 64-bit ('base': conda)"
  },
  "interpreter": {
   "hash": "dca0ade3e726a953b501b15e8e990130d2b7799f14cfd9f4271676035ebe5511"
  }
 },
 "nbformat": 4,
 "nbformat_minor": 2
}